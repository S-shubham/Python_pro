{
 "cells": [
  {
   "cell_type": "markdown",
   "metadata": {},
   "source": [
    "# Learning the facts about *args and **kwargs\n",
    "\n",
    "*args means it can take a variable number of arguments. You do not need to specify before hand the number of arguments in \n",
    "the function signature.\n",
    "\n",
    "While calling the function, we can pass any number of arguments.\n",
    "\n",
    "Now coming to the fact that how we would process the variable number of argument\n",
    "\n",
    "The answer is very and simple and intuitive.\n",
    "We use a loop to iterate over the passed argument\n",
    "\n",
    "The syntax is simpel\n",
    "\n",
    "def use_args(*args):\n",
    "    for arg in args:\n",
    "    print(arg)"
   ]
  },
  {
   "cell_type": "code",
   "execution_count": 1,
   "metadata": {},
   "outputs": [
    {
     "name": "stdout",
     "output_type": "stream",
     "text": [
      "The sum of the passed value is :  100\n"
     ]
    }
   ],
   "source": [
    "def find_sum(*args):\n",
    "    sum_ = 0\n",
    "    for arg in args:\n",
    "        sum_+=arg\n",
    "    return sum_\n",
    "\n",
    "# Calliing the function\n",
    "\n",
    "result = find_sum(10,20,30,40)\n",
    "print(\"The sum of the passed value is : \", result)\n"
   ]
  },
  {
   "cell_type": "markdown",
   "metadata": {},
   "source": [
    "Similarly we use **kwargs in those cases when we have named argument as well as variable number of arguments\n",
    "\n",
    "The syntax is :\n",
    "\n",
    "def print_res(*kwargs):\n",
    "    for key,value in kwargs.items():\n",
    "        print(key,\" = \",value)"
   ]
  },
  {
   "cell_type": "code",
   "execution_count": 3,
   "metadata": {},
   "outputs": [
    {
     "name": "stdout",
     "output_type": "stream",
     "text": [
      "shubham  =  24\n",
      "Alex  =  28\n",
      "Nicole  =  23\n",
      "Nancy  =  18\n"
     ]
    }
   ],
   "source": [
    "def print_res(**kwargs):\n",
    "    for key,value in kwargs.items():\n",
    "        print(key, \" = \",value)\n",
    "        \n",
    "        \n",
    "arguments = {\"shubham\":24, \"Alex\":28, \"Nicole\": 23, \"Nancy\":18}\n",
    "\n",
    "print_res(**arguments)"
   ]
  },
  {
   "cell_type": "code",
   "execution_count": null,
   "metadata": {},
   "outputs": [],
   "source": []
  }
 ],
 "metadata": {
  "kernelspec": {
   "display_name": "Python 3",
   "language": "python",
   "name": "python3"
  },
  "language_info": {
   "codemirror_mode": {
    "name": "ipython",
    "version": 3
   },
   "file_extension": ".py",
   "mimetype": "text/x-python",
   "name": "python",
   "nbconvert_exporter": "python",
   "pygments_lexer": "ipython3",
   "version": "3.6.5"
  }
 },
 "nbformat": 4,
 "nbformat_minor": 2
}
